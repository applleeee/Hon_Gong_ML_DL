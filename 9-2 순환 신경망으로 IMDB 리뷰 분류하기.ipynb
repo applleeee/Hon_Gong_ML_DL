{
 "cells": [
  {
   "cell_type": "markdown",
   "metadata": {},
   "source": [
    "* **말뭉치**는 자연어 처리에서 사용하는 텍스트 데이터의 모음, 즉 훈련 데이터셋을 의미한다. \n",
    "* **토큰**은 텍스트에서 공백으로 구분되는 문자열을 말한다. 종종 소문자로 변환하고 구둣점은 삭제한다. \n",
    "* **원-핫 인코딩**은 어떤 클래스에 해당하는 원소만 1이고 나머지는 모두 0인 벡터이다. 정수로 변환된 토큰을 원-핫 인코딩으로 변환하려면 어휘 사전 크기의 백터가 만들어진다. \n",
    "* **단어 임베딩**은 정수로 변환된 비교적 작은 크기의 실수 밀집 벡터로 변환한다. 이런 밀집 벡터는 단어 사이의 관계를 표현할 수 있기 때문에 자연어 처리에서 좋은 성능을 발휘한다. "
   ]
  },
  {
   "cell_type": "markdown",
   "metadata": {},
   "source": [
    "# Tensorflow\n",
    "\n",
    "* **pad_sequences()**는 시퀀스 길이를 맞추기 위해 패딩을 추가한다. 이 함수는 (샘플 개수, 타임 스텝 개수) 크기의 2차원 배열을 기대한다. \n",
    "  * maxlen 매개변수로 원하는 시퀀스 길이를 지정할 수 있다. 이 값보다 긴 시퀀스는 잘리고 짧은 시퀀스는 패딩된다. 이 매개변수를 지정하지 않으면 가장 긴 시퀀스의 길이가 된다. \n",
    "  * padding 매개변수는 패딩을 추가할 위치를 지정한다. 기본값인 'pre'는 시퀀스 앞에 패딩을 추가하고 'post'는 시퀀스 뒤에 패딩을 추가한다. \n",
    "  * truncating 매개변수는 긴 시퀀에서 자를 위치를 지정한다. 기본값인 'pre'는 시퀀스 앞부분을 잘라내고 'post'는 시퀀스 뒷부분을 잘라낸다. \n",
    "\n",
    "* **to_categorical()**은 정수 시퀀스를 원-핫 인코딩으로 변환한다. 토큰을 원-핫 인코딩하거나 타깃값을 원-핫 인코딩할 때 사용한다. \n",
    "  * num_classes 매개변수에서 클래스 개수를 지정할 수 있다. 지정하지 않으면 데이터에서 자동으로 찾는다. \n",
    "\n",
    "* **SimpleRNN**은 케라스의 기본 순환층 클래스이다. \n",
    "  * 첫 번째 매개변수에 뉴런의 개수를 지정한다. \n",
    "  * activation 매개변수에서 활성화 함수를 지정한다. 기본값은 하이퍼볼릭 탄젠트인 'tanh'이다. \n",
    "  * dropout 매개변수에서 입력에 대한 드롭아웃 비율을 지정할 수 있다. \n",
    "  * return_sequences 매개변수에서 모든 타임스텝의 은닉 상태를 출력할지 결정한다. 기본값은 False이다. \n",
    "\n",
    "* **Embedding**은 단어 임베딩을 위한 클래스이다. \n",
    "  * 첫 번째 매개변수에서 어휘 사전의 크기를 지정한다. \n",
    "  * 두 번째 매개변수에서 Embedding 층이 출력할 밀집 벡터의 크기를 지정한다. \n",
    "  * input_length 매개변수에서 입력 시퀀스의 길이를 지정한다. 이 매개변수는 Embedding 층 바로 뒤에 Flatten이나 Dense 클래스가 올 때 꼭 필요하다. "
   ]
  },
  {
   "cell_type": "code",
   "execution_count": 1,
   "metadata": {},
   "outputs": [
    {
     "name": "stdout",
     "output_type": "stream",
     "text": [
      "Downloading data from https://storage.googleapis.com/tensorflow/tf-keras-datasets/imdb.npz\n",
      "17464789/17464789 [==============================] - 1s 0us/step\n",
      "(25000,) (25000,)\n"
     ]
    }
   ],
   "source": [
    "from tensorflow.keras.datasets import imdb\n",
    "\n",
    "(train_input, train_target), (test_input, test_target) = imdb.load_data(num_words=300)\n",
    "\n",
    "print(train_input.shape, test_input.shape)"
   ]
  },
  {
   "cell_type": "code",
   "execution_count": 3,
   "metadata": {},
   "outputs": [
    {
     "name": "stdout",
     "output_type": "stream",
     "text": [
      "189\n"
     ]
    }
   ],
   "source": [
    "print(len(train_input[1]))"
   ]
  },
  {
   "cell_type": "code",
   "execution_count": 4,
   "metadata": {},
   "outputs": [
    {
     "name": "stdout",
     "output_type": "stream",
     "text": [
      "[1, 14, 22, 16, 43, 2, 2, 2, 2, 65, 2, 2, 66, 2, 4, 173, 36, 256, 5, 25, 100, 43, 2, 112, 50, 2, 2, 9, 35, 2, 284, 5, 150, 4, 172, 112, 167, 2, 2, 2, 39, 4, 172, 2, 2, 17, 2, 38, 13, 2, 4, 192, 50, 16, 6, 147, 2, 19, 14, 22, 4, 2, 2, 2, 4, 22, 71, 87, 12, 16, 43, 2, 38, 76, 15, 13, 2, 4, 22, 17, 2, 17, 12, 16, 2, 18, 2, 5, 62, 2, 12, 8, 2, 8, 106, 5, 4, 2, 2, 16, 2, 66, 2, 33, 4, 130, 12, 16, 38, 2, 5, 25, 124, 51, 36, 135, 48, 25, 2, 33, 6, 22, 12, 215, 28, 77, 52, 5, 14, 2, 16, 82, 2, 8, 4, 107, 117, 2, 15, 256, 4, 2, 7, 2, 5, 2, 36, 71, 43, 2, 2, 26, 2, 2, 46, 7, 4, 2, 2, 13, 104, 88, 4, 2, 15, 297, 98, 32, 2, 56, 26, 141, 6, 194, 2, 18, 4, 226, 22, 21, 134, 2, 26, 2, 5, 144, 30, 2, 18, 51, 36, 28, 224, 92, 25, 104, 4, 226, 65, 16, 38, 2, 88, 12, 16, 283, 5, 16, 2, 113, 103, 32, 15, 16, 2, 19, 178, 32]\n"
     ]
    }
   ],
   "source": [
    "print(train_input[0])"
   ]
  },
  {
   "cell_type": "code",
   "execution_count": 5,
   "metadata": {},
   "outputs": [
    {
     "name": "stdout",
     "output_type": "stream",
     "text": [
      "[1 0 0 1 0 0 1 0 1 0 1 0 0 0 0 0 1 1 0 1]\n"
     ]
    }
   ],
   "source": [
    "print(train_target[:20])"
   ]
  },
  {
   "cell_type": "code",
   "execution_count": 6,
   "metadata": {},
   "outputs": [],
   "source": [
    "from sklearn.model_selection import train_test_split\n",
    "\n",
    "train_input, val_input, train_target, val_target = train_test_split(train_input, train_target, test_size=0.2, random_state=42)"
   ]
  },
  {
   "cell_type": "code",
   "execution_count": 7,
   "metadata": {},
   "outputs": [],
   "source": [
    "import numpy as np\n",
    "\n",
    "lengths = np.array([len(x) for x in train_input])"
   ]
  },
  {
   "cell_type": "code",
   "execution_count": 8,
   "metadata": {},
   "outputs": [
    {
     "name": "stdout",
     "output_type": "stream",
     "text": [
      "239.00925 178.0\n"
     ]
    }
   ],
   "source": [
    "print(np.mean(lengths), np.median(lengths))"
   ]
  },
  {
   "cell_type": "code",
   "execution_count": 9,
   "metadata": {},
   "outputs": [
    {
     "data": {
      "image/png": "[encoded data removed]",
      "text/plain": [
       "<Figure size 640x480 with 1 Axes>"
      ]
     },
     "metadata": {},
     "output_type": "display_data"
    }
   ],
   "source": [
    "import matplotlib.pyplot as plt\n",
    "\n",
    "plt.hist(lengths)\n",
    "plt.xlabel('length')\n",
    "plt.ylabel('frequency')\n",
    "plt.show()"
   ]
  },
  {
   "cell_type": "code",
   "execution_count": 10,
   "metadata": {},
   "outputs": [],
   "source": [
    "from tensorflow.keras.preprocessing.sequence import pad_sequences\n",
    "\n",
    "train_seq = pad_sequences(train_input, maxlen=100)"
   ]
  },
  {
   "cell_type": "code",
   "execution_count": 11,
   "metadata": {},
   "outputs": [
    {
     "name": "stdout",
     "output_type": "stream",
     "text": [
      "(20000, 100)\n"
     ]
    }
   ],
   "source": [
    "print(train_seq.shape)"
   ]
  },
  {
   "cell_type": "code",
   "execution_count": 12,
   "metadata": {},
   "outputs": [
    {
     "name": "stdout",
     "output_type": "stream",
     "text": [
      "[ 10   4  20   9   2   2   2   5  45   6   2   2  33 269   8   2 142   2\n",
      "   5   2  17  73  17 204   5   2  19  55   2   2  92  66 104  14  20  93\n",
      "  76   2 151  33   4  58  12 188   2 151  12 215  69 224 142  73 237   6\n",
      "   2   7   2   2 188   2 103  14  31  10  10   2   7   2   5   2  80  91\n",
      "   2  30   2  34  14  20 151  50  26 131  49   2  84  46  50  37  80  79\n",
      "   6   2  46   7  14  20  10  10   2 158]\n"
     ]
    }
   ],
   "source": [
    "print(train_seq[0])"
   ]
  },
  {
   "cell_type": "code",
   "execution_count": 13,
   "metadata": {},
   "outputs": [
    {
     "name": "stdout",
     "output_type": "stream",
     "text": [
      "[6, 2, 46, 7, 14, 20, 10, 10, 2, 158]\n"
     ]
    }
   ],
   "source": [
    "print(train_input[0][-10:])"
   ]
  },
  {
   "cell_type": "code",
   "execution_count": 15,
   "metadata": {},
   "outputs": [
    {
     "name": "stdout",
     "output_type": "stream",
     "text": [
      "[  0   0   0   0   1   2 195  19  49   2   2 190   4   2   2   2 183  10\n",
      "  10  13  82  79   4   2  36  71 269   8   2  25  19  49   7   4   2   2\n",
      "   2   2   2  10  10  48  25  40   2  11   2   2  40   2   2   5   4   2\n",
      "   2  95  14 238  56 129   2  10  10  21   2  94   2   2   2   2  11 190\n",
      "  24   2   2   7  94 205   2  10  10  87   2  34  49   2   7   2   2   2\n",
      "   2   2 290   2  46  48  64  18   4   2]\n"
     ]
    }
   ],
   "source": [
    "print(train_seq[5])"
   ]
  },
  {
   "cell_type": "code",
   "execution_count": 16,
   "metadata": {},
   "outputs": [],
   "source": [
    "val_seq = pad_sequences(val_input, maxlen=100)"
   ]
  },
  {
   "cell_type": "code",
   "execution_count": 18,
   "metadata": {},
   "outputs": [],
   "source": [
    "from tensorflow import keras\n",
    "\n",
    "model = keras.models.Sequential()\n",
    "\n",
    "model.add(keras.layers.SimpleRNN(8, input_shape=(100, 300)))\n",
    "model.add(keras.layers.Dense(1, activation='sigmoid'))"
   ]
  },
  {
   "cell_type": "code",
   "execution_count": 23,
   "metadata": {},
   "outputs": [],
   "source": [
    "train_oh = keras.utils.to_categorical(train_seq)"
   ]
  },
  {
   "cell_type": "code",
   "execution_count": 26,
   "metadata": {},
   "outputs": [
    {
     "name": "stdout",
     "output_type": "stream",
     "text": [
      "(20000, 100, 300)\n"
     ]
    }
   ],
   "source": [
    "print(train_oh.shape)"
   ]
  },
  {
   "cell_type": "code",
   "execution_count": 25,
   "metadata": {},
   "outputs": [
    {
     "name": "stdout",
     "output_type": "stream",
     "text": [
      "[0. 0. 0. 0. 0. 0. 0. 0. 0. 0. 1. 0.]\n"
     ]
    }
   ],
   "source": [
    "print(train_oh[0][0][:12])"
   ]
  },
  {
   "cell_type": "code",
   "execution_count": 27,
   "metadata": {},
   "outputs": [
    {
     "name": "stdout",
     "output_type": "stream",
     "text": [
      "1.0\n"
     ]
    }
   ],
   "source": [
    "print(np.sum(train_oh[0][0]))"
   ]
  },
  {
   "cell_type": "code",
   "execution_count": 28,
   "metadata": {},
   "outputs": [],
   "source": [
    "val_oh = keras.utils.to_categorical(val_seq)"
   ]
  },
  {
   "cell_type": "code",
   "execution_count": 29,
   "metadata": {},
   "outputs": [
    {
     "name": "stdout",
     "output_type": "stream",
     "text": [
      "Model: \"sequential\"\n",
      "_________________________________________________________________\n",
      " Layer (type)                Output Shape              Param #   \n",
      "=================================================================\n",
      " simple_rnn (SimpleRNN)      (None, 8)                 2472      \n",
      "                                                                 \n",
      " dense (Dense)               (None, 1)                 9         \n",
      "                                                                 \n",
      "=================================================================\n",
      "Total params: 2,481\n",
      "Trainable params: 2,481\n",
      "Non-trainable params: 0\n",
      "_________________________________________________________________\n"
     ]
    }
   ],
   "source": [
    "model.summary()"
   ]
  },
  {
   "cell_type": "code",
   "execution_count": 30,
   "metadata": {},
   "outputs": [
    {
     "name": "stdout",
     "output_type": "stream",
     "text": [
      "Epoch 1/100\n",
      "313/313 [==============================] - 23s 61ms/step - loss: 0.7049 - accuracy: 0.4976 - val_loss: 0.6992 - val_accuracy: 0.5012\n",
      "Epoch 2/100\n",
      "313/313 [==============================] - 18s 58ms/step - loss: 0.6977 - accuracy: 0.5124 - val_loss: 0.6943 - val_accuracy: 0.5198\n",
      "Epoch 3/100\n",
      "313/313 [==============================] - 20s 64ms/step - loss: 0.6920 - accuracy: 0.5308 - val_loss: 0.6881 - val_accuracy: 0.5408\n",
      "Epoch 4/100\n",
      "313/313 [==============================] - 20s 64ms/step - loss: 0.6776 - accuracy: 0.5754 - val_loss: 0.6686 - val_accuracy: 0.6006\n",
      "Epoch 5/100\n",
      "313/313 [==============================] - 20s 63ms/step - loss: 0.6589 - accuracy: 0.6178 - val_loss: 0.6570 - val_accuracy: 0.6232\n",
      "Epoch 6/100\n",
      "313/313 [==============================] - 20s 64ms/step - loss: 0.6456 - accuracy: 0.6404 - val_loss: 0.6406 - val_accuracy: 0.6526\n",
      "Epoch 7/100\n",
      "313/313 [==============================] - 19s 61ms/step - loss: 0.6325 - accuracy: 0.6623 - val_loss: 0.6281 - val_accuracy: 0.6656\n",
      "Epoch 8/100\n",
      "313/313 [==============================] - 19s 60ms/step - loss: 0.6204 - accuracy: 0.6791 - val_loss: 0.6166 - val_accuracy: 0.6798\n",
      "Epoch 9/100\n",
      "313/313 [==============================] - 19s 60ms/step - loss: 0.6087 - accuracy: 0.6928 - val_loss: 0.6077 - val_accuracy: 0.6884\n",
      "Epoch 10/100\n",
      "313/313 [==============================] - 18s 59ms/step - loss: 0.5979 - accuracy: 0.7011 - val_loss: 0.5965 - val_accuracy: 0.7032\n",
      "Epoch 11/100\n",
      "313/313 [==============================] - 18s 57ms/step - loss: 0.5877 - accuracy: 0.7122 - val_loss: 0.5878 - val_accuracy: 0.7092\n",
      "Epoch 12/100\n",
      "313/313 [==============================] - 19s 60ms/step - loss: 0.5781 - accuracy: 0.7200 - val_loss: 0.5791 - val_accuracy: 0.7178\n",
      "Epoch 13/100\n",
      "313/313 [==============================] - 19s 60ms/step - loss: 0.5693 - accuracy: 0.7264 - val_loss: 0.5714 - val_accuracy: 0.7274\n",
      "Epoch 14/100\n",
      "313/313 [==============================] - 19s 60ms/step - loss: 0.5613 - accuracy: 0.7321 - val_loss: 0.5640 - val_accuracy: 0.7326\n",
      "Epoch 15/100\n",
      "313/313 [==============================] - 19s 60ms/step - loss: 0.5537 - accuracy: 0.7390 - val_loss: 0.5573 - val_accuracy: 0.7360\n",
      "Epoch 16/100\n",
      "313/313 [==============================] - 18s 57ms/step - loss: 0.5475 - accuracy: 0.7411 - val_loss: 0.5524 - val_accuracy: 0.7370\n",
      "Epoch 17/100\n",
      "313/313 [==============================] - 19s 61ms/step - loss: 0.5417 - accuracy: 0.7423 - val_loss: 0.5471 - val_accuracy: 0.7396\n",
      "Epoch 18/100\n",
      "313/313 [==============================] - 18s 58ms/step - loss: 0.5365 - accuracy: 0.7468 - val_loss: 0.5440 - val_accuracy: 0.7372\n",
      "Epoch 19/100\n",
      "313/313 [==============================] - 20s 63ms/step - loss: 0.5318 - accuracy: 0.7503 - val_loss: 0.5386 - val_accuracy: 0.7432\n",
      "Epoch 20/100\n",
      "313/313 [==============================] - 19s 59ms/step - loss: 0.5274 - accuracy: 0.7531 - val_loss: 0.5363 - val_accuracy: 0.7394\n",
      "Epoch 21/100\n",
      "313/313 [==============================] - 19s 60ms/step - loss: 0.5234 - accuracy: 0.7551 - val_loss: 0.5330 - val_accuracy: 0.7446\n",
      "Epoch 22/100\n",
      "313/313 [==============================] - 18s 59ms/step - loss: 0.5201 - accuracy: 0.7570 - val_loss: 0.5309 - val_accuracy: 0.7420\n",
      "Epoch 23/100\n",
      "313/313 [==============================] - 20s 63ms/step - loss: 0.5170 - accuracy: 0.7572 - val_loss: 0.5270 - val_accuracy: 0.7482\n",
      "Epoch 24/100\n",
      "313/313 [==============================] - 18s 57ms/step - loss: 0.5137 - accuracy: 0.7599 - val_loss: 0.5249 - val_accuracy: 0.7472\n",
      "Epoch 25/100\n",
      "313/313 [==============================] - 19s 60ms/step - loss: 0.5114 - accuracy: 0.7610 - val_loss: 0.5229 - val_accuracy: 0.7486\n",
      "Epoch 26/100\n",
      "313/313 [==============================] - 18s 58ms/step - loss: 0.5089 - accuracy: 0.7628 - val_loss: 0.5217 - val_accuracy: 0.7504\n",
      "Epoch 27/100\n",
      "313/313 [==============================] - 19s 60ms/step - loss: 0.5066 - accuracy: 0.7639 - val_loss: 0.5205 - val_accuracy: 0.7486\n",
      "Epoch 28/100\n",
      "313/313 [==============================] - 20s 64ms/step - loss: 0.5046 - accuracy: 0.7658 - val_loss: 0.5203 - val_accuracy: 0.7480\n",
      "Epoch 29/100\n",
      "313/313 [==============================] - 20s 64ms/step - loss: 0.5027 - accuracy: 0.7658 - val_loss: 0.5183 - val_accuracy: 0.7462\n",
      "Epoch 30/100\n",
      "313/313 [==============================] - 19s 61ms/step - loss: 0.5010 - accuracy: 0.7660 - val_loss: 0.5186 - val_accuracy: 0.7512\n",
      "Epoch 31/100\n",
      "313/313 [==============================] - 19s 60ms/step - loss: 0.4994 - accuracy: 0.7683 - val_loss: 0.5175 - val_accuracy: 0.7502\n",
      "Epoch 32/100\n",
      "313/313 [==============================] - 19s 60ms/step - loss: 0.4979 - accuracy: 0.7689 - val_loss: 0.5162 - val_accuracy: 0.7540\n",
      "Epoch 33/100\n",
      "313/313 [==============================] - 18s 59ms/step - loss: 0.4967 - accuracy: 0.7689 - val_loss: 0.5176 - val_accuracy: 0.7464\n",
      "Epoch 34/100\n",
      "313/313 [==============================] - 19s 61ms/step - loss: 0.4954 - accuracy: 0.7705 - val_loss: 0.5134 - val_accuracy: 0.7542\n",
      "Epoch 35/100\n",
      "313/313 [==============================] - 18s 56ms/step - loss: 0.4943 - accuracy: 0.7706 - val_loss: 0.5128 - val_accuracy: 0.7514\n",
      "Epoch 36/100\n",
      "313/313 [==============================] - 19s 62ms/step - loss: 0.4934 - accuracy: 0.7722 - val_loss: 0.5128 - val_accuracy: 0.7518\n",
      "Epoch 37/100\n",
      "313/313 [==============================] - 19s 59ms/step - loss: 0.4921 - accuracy: 0.7734 - val_loss: 0.5120 - val_accuracy: 0.7516\n",
      "Epoch 38/100\n",
      "313/313 [==============================] - 20s 63ms/step - loss: 0.4910 - accuracy: 0.7727 - val_loss: 0.5149 - val_accuracy: 0.7516\n",
      "Epoch 39/100\n",
      "313/313 [==============================] - 19s 60ms/step - loss: 0.4899 - accuracy: 0.7735 - val_loss: 0.5160 - val_accuracy: 0.7508\n",
      "Epoch 40/100\n",
      "313/313 [==============================] - 20s 64ms/step - loss: 0.4889 - accuracy: 0.7729 - val_loss: 0.5152 - val_accuracy: 0.7520\n"
     ]
    }
   ],
   "source": [
    "rmsprop = keras.optimizers.RMSprop(learning_rate=1e-4)\n",
    "model.compile(optimizer=rmsprop, loss='binary_crossentropy', metrics=['accuracy'])\n",
    "\n",
    "checkpoint_cb = keras.callbacks.ModelCheckpoint('best-simplernn-model.h5', save_best_only=True)\n",
    "early_stopping_cb = keras.callbacks.EarlyStopping(patience=3, restore_best_weights=True)\n",
    "\n",
    "history = model.fit(train_oh, train_target, epochs=100, batch_size=64, validation_data=(val_oh, val_target), callbacks=[checkpoint_cb, early_stopping_cb])"
   ]
  },
  {
   "cell_type": "code",
   "execution_count": 31,
   "metadata": {},
   "outputs": [
    {
     "data": {
      "image/png": "[encoded data removed]",
      "text/plain": [
       "<Figure size 640x480 with 1 Axes>"
      ]
     },
     "metadata": {},
     "output_type": "display_data"
    }
   ],
   "source": [
    "plt.plot(history.history['loss'])\n",
    "plt.plot(history.history['val_loss'])\n",
    "plt.xlabel('epoch')\n",
    "plt.ylabel('loss')\n",
    "plt.legend(['train', 'val'])\n",
    "plt.show()"
   ]
  },
  {
   "cell_type": "code",
   "execution_count": 32,
   "metadata": {},
   "outputs": [
    {
     "name": "stdout",
     "output_type": "stream",
     "text": [
      "8000000 2400000000\n"
     ]
    }
   ],
   "source": [
    "print(train_seq.nbytes, train_oh.nbytes)"
   ]
  },
  {
   "cell_type": "code",
   "execution_count": 33,
   "metadata": {},
   "outputs": [],
   "source": [
    "model2 = keras.models.Sequential()\n",
    "model2.add(keras.layers.Embedding(300, 16, input_length=100))\n",
    "model2.add(keras.layers.SimpleRNN(8))\n",
    "model2.add(keras.layers.Dense(1, activation='sigmoid'))"
   ]
  },
  {
   "cell_type": "code",
   "execution_count": 34,
   "metadata": {},
   "outputs": [
    {
     "name": "stdout",
     "output_type": "stream",
     "text": [
      "Model: \"sequential_1\"\n",
      "_________________________________________________________________\n",
      " Layer (type)                Output Shape              Param #   \n",
      "=================================================================\n",
      " embedding (Embedding)       (None, 100, 16)           4800      \n",
      "                                                                 \n",
      " simple_rnn_1 (SimpleRNN)    (None, 8)                 200       \n",
      "                                                                 \n",
      " dense_1 (Dense)             (None, 1)                 9         \n",
      "                                                                 \n",
      "=================================================================\n",
      "Total params: 5,009\n",
      "Trainable params: 5,009\n",
      "Non-trainable params: 0\n",
      "_________________________________________________________________\n"
     ]
    }
   ],
   "source": [
    "model2.summary()"
   ]
  },
  {
   "cell_type": "code",
   "execution_count": 35,
   "metadata": {},
   "outputs": [
    {
     "name": "stdout",
     "output_type": "stream",
     "text": [
      "Epoch 1/100\n",
      "313/313 [==============================] - 26s 81ms/step - loss: 0.6975 - accuracy: 0.5041 - val_loss: 0.6923 - val_accuracy: 0.5232\n",
      "Epoch 2/100\n",
      "313/313 [==============================] - 25s 81ms/step - loss: 0.6887 - accuracy: 0.5408 - val_loss: 0.6798 - val_accuracy: 0.5848\n",
      "Epoch 3/100\n",
      "313/313 [==============================] - 27s 86ms/step - loss: 0.6648 - accuracy: 0.6263 - val_loss: 0.6538 - val_accuracy: 0.6434\n",
      "Epoch 4/100\n",
      "313/313 [==============================] - 28s 88ms/step - loss: 0.6406 - accuracy: 0.6700 - val_loss: 0.6340 - val_accuracy: 0.6752\n",
      "Epoch 5/100\n",
      "313/313 [==============================] - 29s 93ms/step - loss: 0.6236 - accuracy: 0.6915 - val_loss: 0.6179 - val_accuracy: 0.6932\n",
      "Epoch 6/100\n",
      "313/313 [==============================] - 29s 92ms/step - loss: 0.6107 - accuracy: 0.7028 - val_loss: 0.6088 - val_accuracy: 0.7002\n",
      "Epoch 7/100\n",
      "313/313 [==============================] - 28s 89ms/step - loss: 0.6000 - accuracy: 0.7096 - val_loss: 0.6013 - val_accuracy: 0.7010\n",
      "Epoch 8/100\n",
      "313/313 [==============================] - 29s 93ms/step - loss: 0.5891 - accuracy: 0.7153 - val_loss: 0.5901 - val_accuracy: 0.7048\n",
      "Epoch 9/100\n",
      "313/313 [==============================] - 28s 88ms/step - loss: 0.5812 - accuracy: 0.7198 - val_loss: 0.5808 - val_accuracy: 0.7144\n",
      "Epoch 10/100\n",
      "313/313 [==============================] - 28s 88ms/step - loss: 0.5748 - accuracy: 0.7214 - val_loss: 0.5741 - val_accuracy: 0.7194\n",
      "Epoch 11/100\n",
      "313/313 [==============================] - 29s 92ms/step - loss: 0.5657 - accuracy: 0.7268 - val_loss: 0.5678 - val_accuracy: 0.7250\n",
      "Epoch 12/100\n",
      "313/313 [==============================] - 28s 91ms/step - loss: 0.5572 - accuracy: 0.7357 - val_loss: 0.5607 - val_accuracy: 0.7282\n",
      "Epoch 13/100\n",
      "313/313 [==============================] - 27s 87ms/step - loss: 0.5511 - accuracy: 0.7364 - val_loss: 0.5539 - val_accuracy: 0.7334\n",
      "Epoch 14/100\n",
      "313/313 [==============================] - 29s 93ms/step - loss: 0.5464 - accuracy: 0.7398 - val_loss: 0.5579 - val_accuracy: 0.7250\n",
      "Epoch 15/100\n",
      "313/313 [==============================] - 28s 90ms/step - loss: 0.5405 - accuracy: 0.7445 - val_loss: 0.5528 - val_accuracy: 0.7302\n",
      "Epoch 16/100\n",
      "313/313 [==============================] - 28s 89ms/step - loss: 0.5367 - accuracy: 0.7477 - val_loss: 0.5470 - val_accuracy: 0.7374\n",
      "Epoch 17/100\n",
      "313/313 [==============================] - 29s 92ms/step - loss: 0.5311 - accuracy: 0.7526 - val_loss: 0.5492 - val_accuracy: 0.7264\n",
      "Epoch 18/100\n",
      "313/313 [==============================] - 28s 89ms/step - loss: 0.5273 - accuracy: 0.7540 - val_loss: 0.5394 - val_accuracy: 0.7374\n",
      "Epoch 19/100\n",
      "313/313 [==============================] - 27s 88ms/step - loss: 0.5246 - accuracy: 0.7533 - val_loss: 0.5364 - val_accuracy: 0.7462\n",
      "Epoch 20/100\n",
      "313/313 [==============================] - 30s 95ms/step - loss: 0.5201 - accuracy: 0.7581 - val_loss: 0.5453 - val_accuracy: 0.7342\n",
      "Epoch 21/100\n",
      "313/313 [==============================] - 28s 90ms/step - loss: 0.5171 - accuracy: 0.7599 - val_loss: 0.5375 - val_accuracy: 0.7422\n",
      "Epoch 22/100\n",
      "313/313 [==============================] - 28s 90ms/step - loss: 0.5134 - accuracy: 0.7637 - val_loss: 0.5339 - val_accuracy: 0.7388\n",
      "Epoch 23/100\n",
      "313/313 [==============================] - 29s 91ms/step - loss: 0.5105 - accuracy: 0.7638 - val_loss: 0.5502 - val_accuracy: 0.7302\n",
      "Epoch 24/100\n",
      "313/313 [==============================] - 29s 91ms/step - loss: 0.5083 - accuracy: 0.7649 - val_loss: 0.5314 - val_accuracy: 0.7454\n",
      "Epoch 25/100\n",
      "313/313 [==============================] - 27s 87ms/step - loss: 0.5042 - accuracy: 0.7681 - val_loss: 0.5332 - val_accuracy: 0.7428\n",
      "Epoch 26/100\n",
      "313/313 [==============================] - 27s 88ms/step - loss: 0.5019 - accuracy: 0.7697 - val_loss: 0.5276 - val_accuracy: 0.7466\n",
      "Epoch 27/100\n",
      "313/313 [==============================] - 26s 84ms/step - loss: 0.4999 - accuracy: 0.7696 - val_loss: 0.5414 - val_accuracy: 0.7342\n",
      "Epoch 28/100\n",
      "313/313 [==============================] - 26s 83ms/step - loss: 0.4957 - accuracy: 0.7750 - val_loss: 0.5273 - val_accuracy: 0.7466\n",
      "Epoch 29/100\n",
      "313/313 [==============================] - 30s 94ms/step - loss: 0.4928 - accuracy: 0.7752 - val_loss: 0.5245 - val_accuracy: 0.7500\n",
      "Epoch 30/100\n",
      "313/313 [==============================] - 26s 84ms/step - loss: 0.4909 - accuracy: 0.7757 - val_loss: 0.5284 - val_accuracy: 0.7428\n",
      "Epoch 31/100\n",
      "313/313 [==============================] - 27s 85ms/step - loss: 0.4884 - accuracy: 0.7773 - val_loss: 0.5308 - val_accuracy: 0.7446\n",
      "Epoch 32/100\n",
      "313/313 [==============================] - 26s 82ms/step - loss: 0.4860 - accuracy: 0.7786 - val_loss: 0.5215 - val_accuracy: 0.7488\n",
      "Epoch 33/100\n",
      "313/313 [==============================] - 31s 100ms/step - loss: 0.4844 - accuracy: 0.7817 - val_loss: 0.5215 - val_accuracy: 0.7512\n",
      "Epoch 34/100\n",
      "313/313 [==============================] - 28s 90ms/step - loss: 0.4827 - accuracy: 0.7801 - val_loss: 0.5255 - val_accuracy: 0.7442\n",
      "Epoch 35/100\n",
      "313/313 [==============================] - 27s 86ms/step - loss: 0.4804 - accuracy: 0.7842 - val_loss: 0.5264 - val_accuracy: 0.7462\n"
     ]
    }
   ],
   "source": [
    "rmsprop = keras.optimizers.RMSprop(learning_rate=1e-4)\n",
    "\n",
    "model2.compile(optimizer=rmsprop, loss='binary_crossentropy', metrics=['accuracy'])\n",
    "checkpoint_cb = keras.callbacks.ModelCheckpoint('best-embedding-model.h5', save_best_only=True)\n",
    "early_stopping_cb = keras.callbacks.EarlyStopping(patience=3, restore_best_weights=True)\n",
    "history = model2.fit(train_seq, train_target, epochs=100, batch_size=64, validation_data=(val_seq, val_target), callbacks=[checkpoint_cb, early_stopping_cb])"
   ]
  },
  {
   "cell_type": "code",
   "execution_count": 36,
   "metadata": {},
   "outputs": [
    {
     "data": {
      "image/png": "[encoded data removed]",
      "text/plain": [
       "<Figure size 640x480 with 1 Axes>"
      ]
     },
     "metadata": {},
     "output_type": "display_data"
    }
   ],
   "source": [
    "plt.plot(history.history['loss'])\n",
    "plt.plot(history.history['val_loss'])\n",
    "plt.xlabel('epoch')\n",
    "plt.ylabel('loss')\n",
    "plt.legend(['train', 'val'])\n",
    "plt.show()"
   ]
  }
 ],
 "metadata": {
  "kernelspec": {
   "display_name": "ml_env",
   "language": "python",
   "name": "python3"
  },
  "language_info": {
   "codemirror_mode": {
    "name": "ipython",
    "version": 3
   },
   "file_extension": ".py",
   "mimetype": "text/x-python",
   "name": "python",
   "nbconvert_exporter": "python",
   "pygments_lexer": "ipython3",
   "version": "3.8.19"
  }
 },
 "nbformat": 4,
 "nbformat_minor": 2
}
